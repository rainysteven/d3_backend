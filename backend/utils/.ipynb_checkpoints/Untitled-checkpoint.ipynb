{
 "cells": [
  {
   "cell_type": "code",
   "execution_count": 10,
   "id": "92dd3b5b-f905-471b-973b-546c7b665cbd",
   "metadata": {},
   "outputs": [],
   "source": [
    "import numpy as np\n",
    "class ProjectFilesGraph:\n",
    "    def __init__(self, nodes, edges):\n",
    "        self.length = len(nodes)\n",
    "        self.edges = edges\n",
    "        self.matrix = self.get_adjacency_matrix()\n",
    "\n",
    "    def get_adjacency_matrix(self):\n",
    "        matrix = np.zeros((self.length, self.length), dtype=int)\n",
    "        for edge in self.edges:\n",
    "            items = list(edge.values())\n",
    "            matrix[items[0]][items[1]] = 1\n",
    "        return matrix"
   ]
  },
  {
   "cell_type": "code",
   "execution_count": 6,
   "id": "4fe1f308-d999-49da-a910-706d191be079",
   "metadata": {},
   "outputs": [],
   "source": [
    "import json"
   ]
  },
  {
   "cell_type": "code",
   "execution_count": 7,
   "id": "3215403a-4782-4dc9-8b6d-d569b696f29d",
   "metadata": {},
   "outputs": [],
   "source": [
    "file_name='/Users/rainy/pythonProjects/d3_demo/static/resources/android_12.0.0/structure/android_12.0.0_media.json'"
   ]
  },
  {
   "cell_type": "code",
   "execution_count": 8,
   "id": "8fcbaaa0-875e-4997-801c-7a157e0fa1bf",
   "metadata": {},
   "outputs": [],
   "source": [
    "with open(file_name,'r') as file:\n",
    "    json_object=json.load(file)"
   ]
  },
  {
   "cell_type": "code",
   "execution_count": 11,
   "id": "7230e040-77f2-4759-bfb3-8a605e159054",
   "metadata": {},
   "outputs": [],
   "source": [
    "g = ProjectFilesGraph(json_object['variables'], json_object['cells'])"
   ]
  },
  {
   "cell_type": "code",
   "execution_count": 12,
   "id": "f5dc0183-98a2-48a2-916c-5af0de8ed445",
   "metadata": {},
   "outputs": [
    {
     "data": {
      "text/plain": [
       "array([[0, 0, 0, ..., 0, 0, 0],\n",
       "       [0, 0, 1, ..., 0, 0, 0],\n",
       "       [0, 0, 0, ..., 0, 0, 0],\n",
       "       ...,\n",
       "       [0, 0, 0, ..., 0, 0, 0],\n",
       "       [0, 0, 0, ..., 0, 0, 0],\n",
       "       [0, 0, 0, ..., 0, 0, 0]])"
      ]
     },
     "execution_count": 12,
     "metadata": {},
     "output_type": "execute_result"
    }
   ],
   "source": [
    "g.matrix"
   ]
  },
  {
   "cell_type": "code",
   "execution_count": null,
   "id": "ce99f5f0-714c-435a-8785-f0ad70fc62f8",
   "metadata": {},
   "outputs": [],
   "source": []
  }
 ],
 "metadata": {
  "kernelspec": {
   "display_name": "Python 3.9.8 64-bit ('jupyter': virtualenv)",
   "language": "python",
   "name": "python398jvsc74a57bd0046f96ff3221eecc690d3acb2b21bd1377a7ac14003af91518be5840b54d9421"
  },
  "language_info": {
   "codemirror_mode": {
    "name": "ipython",
    "version": 3
   },
   "file_extension": ".py",
   "mimetype": "text/x-python",
   "name": "python",
   "nbconvert_exporter": "python",
   "pygments_lexer": "ipython3",
   "version": "3.9.8"
  }
 },
 "nbformat": 4,
 "nbformat_minor": 5
}
